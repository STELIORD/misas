{
 "cells": [
  {
   "cell_type": "markdown",
   "metadata": {},
   "source": [
    "# Model Interpretation through Sensitivity Analysis for Segmentation"
   ]
  },
  {
   "cell_type": "markdown",
   "metadata": {},
   "source": [
    "## Setup"
   ]
  },
  {
   "cell_type": "code",
   "execution_count": null,
   "metadata": {},
   "outputs": [],
   "source": [
    "#default_exp core"
   ]
  },
  {
   "cell_type": "code",
   "execution_count": null,
   "metadata": {},
   "outputs": [],
   "source": [
    "%reload_ext autoreload\n",
    "%autoreload 2\n",
    "%matplotlib inline"
   ]
  },
  {
   "cell_type": "markdown",
   "metadata": {},
   "source": [
    "Force execution on CPU not GPU"
   ]
  },
  {
   "cell_type": "code",
   "execution_count": null,
   "metadata": {},
   "outputs": [],
   "source": [
    "#exporti\n",
    "from fastai.vision import *\n",
    "import pandas as pd\n",
    "from tqdm.notebook import tqdm\n",
    "import matplotlib.pyplot as plt"
   ]
  },
  {
   "cell_type": "code",
   "execution_count": null,
   "metadata": {},
   "outputs": [],
   "source": [
    "#exporti\n",
    "def dice(rotatedPrediction, trueMask, component = 1):\n",
    "    dice = 1\n",
    "    pred = rotatedPrediction.data == component\n",
    "    msk = trueMask.data == component\n",
    "    intersect = pred&msk\n",
    "    total = pred.sum() + msk.sum() \n",
    "    if total > 0:\n",
    "        dice = 2 * intersect.sum().float() / total\n",
    "    return dice.item()"
   ]
  },
  {
   "cell_type": "markdown",
   "metadata": {},
   "source": [
    "## Sensitivity Analysis"
   ]
  },
  {
   "cell_type": "markdown",
   "metadata": {},
   "source": [
    "### Rotation"
   ]
  },
  {
   "cell_type": "code",
   "execution_count": null,
   "metadata": {},
   "outputs": [],
   "source": [
    "#export\n",
    "def plot_rotation_series(image_function, model, start=0, end=180, num=5):\n",
    "    fig, axs = plt.subplots(1,num,figsize=(16,6))\n",
    "    for deg, ax in zip(np.linspace(start,end,num), axs):\n",
    "        img = image_function().resize(256).rotate(degrees=int(deg))\n",
    "        img.show(ax=ax, title=f'degrees={deg}', y =  model.predict(img)[0])"
   ]
  },
  {
   "cell_type": "code",
   "execution_count": null,
   "metadata": {},
   "outputs": [],
   "source": [
    "#export\n",
    "def rotation_series(image_function, mask_function, model, step_size=5):\n",
    "    trueMask = mask_function().resize(256)\n",
    "    results = list()\n",
    "    for deg in tqdm(range(0, 360, step_size)):\n",
    "        image = image_function().resize(256)\n",
    "        rotatedImage = image.rotate(degrees=deg)\n",
    "        prediction = model.predict(rotatedImage)[0]\n",
    "        prediction._px = prediction._px.float()\n",
    "        rotatedPrediction = prediction.rotate(degrees=-deg)\n",
    "        diceLV = dice(rotatedPrediction, trueMask, component = 1)\n",
    "        diceMY = dice(rotatedPrediction, trueMask, component = 2)\n",
    "        results.append([deg, diceLV, diceMY])\n",
    "\n",
    "    results = pd.DataFrame(results,columns = ['deg', 'diceLV', 'diceMY'])\n",
    "    return results"
   ]
  },
  {
   "cell_type": "markdown",
   "metadata": {},
   "source": [
    "### Cropping"
   ]
  },
  {
   "cell_type": "code",
   "execution_count": null,
   "metadata": {},
   "outputs": [],
   "source": [
    "#export\n",
    "def plot_crop_series(image_function, model, start=256, end=56, num=5):\n",
    "    fig, axs = plt.subplots(1,num,figsize=(16,6))\n",
    "    for pxls, ax in zip(np.linspace(start,end,num), axs):\n",
    "        croppedImage = image_function()\n",
    "        croppedImage.resize(256)\n",
    "        croppedImage.crop(int(pxls))\n",
    "        croppedImage.crop_pad(256, padding_mode = 'zeros')\n",
    "        croppedImage.show(ax=ax, title=f'pixels={int(pxls)}', y =  model.predict(croppedImage)[0])"
   ]
  },
  {
   "cell_type": "code",
   "execution_count": null,
   "metadata": {},
   "outputs": [],
   "source": [
    "#export\n",
    "def crop_series(image_function, mask_function, model, step_size=5):\n",
    "    results = list()\n",
    "    for pxls in tqdm(range(256, 32, -step_size)):\n",
    "        image = image_function()\n",
    "        image.resize(256)\n",
    "        trueMask = mask_function()\n",
    "        trueMask.resize(256)\n",
    "\n",
    "        croppedImage = image.crop(pxls).crop_pad(256, padding_mode = 'zeros')\n",
    "        prediction = model.predict(croppedImage)[0]\n",
    "        prediction._px = prediction._px.float()\n",
    "\n",
    "        diceLV = dice(prediction, trueMask, component = 1)\n",
    "        diceMY = dice(prediction, trueMask, component = 2)\n",
    "        results.append([pxls, diceLV, diceMY])\n",
    "\n",
    "    results = pd.DataFrame(results,columns = ['pxls', 'diceLV', 'diceMY'])\n",
    "    return results"
   ]
  },
  {
   "cell_type": "code",
   "execution_count": null,
   "metadata": {},
   "outputs": [
    {
     "name": "stdout",
     "output_type": "stream",
     "text": [
      "Converted 01_local_interpret.ipynb.\n",
      "Converted index.ipynb.\n"
     ]
    }
   ],
   "source": [
    "from nbdev.export import notebook2script\n",
    "notebook2script()"
   ]
  },
  {
   "cell_type": "code",
   "execution_count": null,
   "metadata": {},
   "outputs": [],
   "source": []
  }
 ],
 "metadata": {
  "kernelspec": {
   "display_name": "Python 3",
   "language": "python",
   "name": "python3"
  }
 },
 "nbformat": 4,
 "nbformat_minor": 4
}
